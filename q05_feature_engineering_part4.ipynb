{
 "cells": [
  {
   "cell_type": "code",
   "execution_count": null,
   "metadata": {},
   "outputs": [],
   "source": [
    "# %load q05_feature_engineering_part2/build.py\n",
    "import pandas as pd\n",
    "import numpy as np\n",
    "import matplotlib.pyplot as plt\n",
    "from q01_load_data.build import q01_load_data\n",
    "\n",
    "\n",
    "def q05_feature_engineering_part2(path):\n",
    "    shape, data = q01_load_data(path)\n",
    "    \"write your solution here\"\n",
    "    data[\"hour\"] = data[\"Datetime\"].dt.hour\n",
    "\n",
    "    plt.figure(figsize=(16, 6))\n",
    "\n",
    "    hours = []\n",
    "    for i in range(24):\n",
    "        one = data[data[\"hour\"] == i][\"Demand\"].values\n",
    "        hours.append(one)\n",
    "    plt.boxplot(hours, labels=[str(i) for i in range(24)])\n",
    "    plt.xlabel(\"Hour\")\n",
    "    plt.ylabel(\"Demand\")\n",
    "    plt.title(\"Change in Electricity demand wrt to Hour\")    \n",
    "\n"
   ]
  },
  {
   "cell_type": "code",
   "execution_count": null,
   "metadata": {},
   "outputs": [],
   "source": []
  }
 ],
 "metadata": {
  "kernelspec": {
   "display_name": "Python 3",
   "language": "python",
   "name": "python3"
  },
  "language_info": {
   "codemirror_mode": {
    "name": "ipython",
    "version": 3
   },
   "file_extension": ".py",
   "mimetype": "text/x-python",
   "name": "python",
   "nbconvert_exporter": "python",
   "pygments_lexer": "ipython3",
   "version": "3.6.3"
  }
 },
 "nbformat": 4,
 "nbformat_minor": 2
}
