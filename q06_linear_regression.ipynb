{
 "cells": [
  {
   "cell_type": "code",
   "execution_count": null,
   "metadata": {},
   "outputs": [],
   "source": [
    "# %load q06_linear_regression/build.py\n",
    "import pandas as pd\n",
    "import numpy as np\n",
    "import math\n",
    "from sklearn.linear_model import LinearRegression\n",
    "from sklearn.metrics import mean_squared_error\n",
    "from q05_feature_engineering_part4.build import q05_feature_engineering_part4\n",
    "from q02_data_splitter.build import q02_data_splitter\n",
    "\n",
    "fe =  [\"WorkDay\", \"Peakhours\", \"Peakmonths\"]\n",
    "\n",
    "def q06_linear_regression(path,columns = fe, random_state =9):\n",
    "    np.random.seed(random_state)\n",
    "    data = q05_feature_engineering_part4(path)\n",
    "    splits = q02_data_splitter(path)\n",
    "    \"write your solution here\"\n",
    "    \n",
    "    rmse = []\n",
    "    for i in splits:\n",
    "        train = i[0]\n",
    "        valid = i[1]\n",
    "        x_train, y_train = data[fe].values[train], data[\"Demand\"].values[train]\n",
    "        x_valid, y_valid = data[fe].values[valid], data[\"Demand\"].values[valid]\n",
    "        model = LinearRegression()\n",
    "        model.fit(x_train, y_train)\n",
    "        pred = model.predict(x_valid)\n",
    "        measure = math.pow(mean_squared_error(y_valid, pred), 0.5)\n",
    "        rmse.append(measure)\n",
    "    return np.mean(rmse)\n",
    "\n"
   ]
  },
  {
   "cell_type": "code",
   "execution_count": null,
   "metadata": {},
   "outputs": [],
   "source": []
  }
 ],
 "metadata": {
  "kernelspec": {
   "display_name": "Python 3",
   "language": "python",
   "name": "python3"
  },
  "language_info": {
   "codemirror_mode": {
    "name": "ipython",
    "version": 3
   },
   "file_extension": ".py",
   "mimetype": "text/x-python",
   "name": "python",
   "nbconvert_exporter": "python",
   "pygments_lexer": "ipython3",
   "version": "3.6.3"
  }
 },
 "nbformat": 4,
 "nbformat_minor": 2
}
